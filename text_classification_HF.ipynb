{
  "cells": [
    {
      "cell_type": "code",
      "execution_count": null,
      "metadata": {
        "collapsed": true,
        "id": "C4Lz8ZLV-gVl"
      },
      "outputs": [],
      "source": [
        "%%capture\n",
        "! pip install transformers datasets evaluate accelerate>=0.26.0 transformers[torch]"
      ]
    },
    {
      "cell_type": "code",
      "execution_count": 48,
      "metadata": {},
      "outputs": [
        {
          "name": "stdout",
          "output_type": "stream",
          "text": [
            "1.4.0\n"
          ]
        }
      ],
      "source": [
        "import accelerate\n",
        "print(accelerate.__version__)"
      ]
    },
    {
      "cell_type": "code",
      "execution_count": 2,
      "metadata": {
        "colab": {
          "base_uri": "https://localhost:8080/"
        },
        "id": "DzA059tp5RhD",
        "outputId": "c7bd994a-0403-4188-a7a3-baf5cea2a3aa"
      },
      "outputs": [
        {
          "name": "stdout",
          "output_type": "stream",
          "text": [
            "3.11.9 (tags/v3.11.9:de54cf5, Apr  2 2024, 10:12:12) [MSC v.1938 64 bit (AMD64)]\n"
          ]
        }
      ],
      "source": [
        "import sys\n",
        "print(sys.version)"
      ]
    },
    {
      "cell_type": "code",
      "execution_count": 3,
      "metadata": {
        "id": "qASoiKuG-oxw"
      },
      "outputs": [],
      "source": [
        "%%capture\n",
        "from datasets import load_dataset\n",
        "imdb = load_dataset(\"imdb\")"
      ]
    },
    {
      "cell_type": "code",
      "execution_count": 5,
      "metadata": {
        "colab": {
          "base_uri": "https://localhost:8080/"
        },
        "id": "86a0h9yA-zzP",
        "outputId": "df22ee0b-1d59-4f1d-fcec-8624e4356ce5"
      },
      "outputs": [
        {
          "name": "stdout",
          "output_type": "stream",
          "text": [
            "{'text': 'I rented I AM CURIOUS-YELLOW from my video store because of all the controversy that surrounded it when it was first released in 1967. I also heard that at first it was seized by U.S. customs if it ever tried to enter this country, therefore being a fan of films considered \"controversial\" I really had to see this for myself.<br /><br />The plot is centered around a young Swedish drama student named Lena who wants to learn everything she can about life. In particular she wants to focus her attentions to making some sort of documentary on what the average Swede thought about certain political issues such as the Vietnam War and race issues in the United States. In between asking politicians and ordinary denizens of Stockholm about their opinions on politics, she has sex with her drama teacher, classmates, and married men.<br /><br />What kills me about I AM CURIOUS-YELLOW is that 40 years ago, this was considered pornographic. Really, the sex and nudity scenes are few and far between, even then it\\'s not shot like some cheaply made porno. While my countrymen mind find it shocking, in reality sex and nudity are a major staple in Swedish cinema. Even Ingmar Bergman, arguably their answer to good old boy John Ford, had sex scenes in his films.<br /><br />I do commend the filmmakers for the fact that any sex shown in the film is shown for artistic purposes rather than just to shock people and make money to be shown in pornographic theaters in America. I AM CURIOUS-YELLOW is a good film for anyone wanting to study the meat and potatoes (no pun intended) of Swedish cinema. But really, this film doesn\\'t have much of a plot.', 'label': 0}\n",
            "{'text': 'I love sci-fi and am willing to put up with a lot. Sci-fi movies/TV are usually underfunded, under-appreciated and misunderstood. I tried to like this, I really did, but it is to good TV sci-fi as Babylon 5 is to Star Trek (the original). Silly prosthetics, cheap cardboard sets, stilted dialogues, CG that doesn\\'t match the background, and painfully one-dimensional characters cannot be overcome with a \\'sci-fi\\' setting. (I\\'m sure there are those of you out there who think Babylon 5 is good sci-fi TV. It\\'s not. It\\'s clichéd and uninspiring.) While US viewers might like emotion and character development, sci-fi is a genre that does not take itself seriously (cf. Star Trek). It may treat important issues, yet not as a serious philosophy. It\\'s really difficult to care about the characters here as they are not simply foolish, just missing a spark of life. Their actions and reactions are wooden and predictable, often painful to watch. The makers of Earth KNOW it\\'s rubbish as they have to always say \"Gene Roddenberry\\'s Earth...\" otherwise people would not continue watching. Roddenberry\\'s ashes must be turning in their orbit as this dull, cheap, poorly edited (watching it without advert breaks really brings this home) trudging Trabant of a show lumbers into space. Spoiler. So, kill off a main character. And then bring him back as another actor. Jeeez! Dallas all over again.', 'label': 0}\n",
            "(25000, 2) (25000, 2)\n",
            "Dataset({\n",
            "    features: ['text', 'label'],\n",
            "    num_rows: 25000\n",
            "})\n"
          ]
        }
      ],
      "source": [
        "print(imdb[\"train\"][0])\n",
        "print(imdb[\"test\"][0])\n",
        "print(imdb[\"train\"].shape, imdb[\"test\"].shape)\n",
        "print(imdb[\"train\"])"
      ]
    },
    {
      "cell_type": "code",
      "execution_count": 6,
      "metadata": {
        "colab": {
          "base_uri": "https://localhost:8080/"
        },
        "id": "CObk4jQTCb5N",
        "outputId": "dd99fccf-d2de-4e32-8736-96bb538c7de2"
      },
      "outputs": [
        {
          "name": "stdout",
          "output_type": "stream",
          "text": [
            "(25000, 1) (25000, 1) (25000, 1) (25000, 1)\n"
          ]
        }
      ],
      "source": [
        "import pandas as pd\n",
        "X_train = pd.DataFrame(imdb[\"train\"]['text'][:25000]).rename(columns={0: 'text'})\n",
        "y_train = pd.DataFrame(imdb[\"train\"]['label'][:25000]).rename(columns={0: 'target'})\n",
        "X_test = pd.DataFrame(imdb[\"test\"]['text'][:25000]).rename(columns={0: 'text'})\n",
        "y_test = pd.DataFrame(imdb[\"test\"]['label'][:25000]).rename(columns={0: 'target'})\n",
        "print(X_train.shape, y_train.shape, X_test.shape, y_test.shape)\n",
        "del(imdb)"
      ]
    },
    {
      "cell_type": "code",
      "execution_count": 7,
      "metadata": {
        "colab": {
          "base_uri": "https://localhost:8080/"
        },
        "id": "0rdfNcEoeKW-",
        "outputId": "60737c0f-b642-4122-ce89-62877256ebaf"
      },
      "outputs": [
        {
          "name": "stdout",
          "output_type": "stream",
          "text": [
            "(1000, 1) (1000, 1) (250, 1) (250, 1)\n"
          ]
        }
      ],
      "source": [
        "n=1000\n",
        "n_per_label =  (y_train['target'].value_counts()/len(y_train)* n).round().astype(int)\n",
        "indices_sample = []\n",
        "for label, count in n_per_label.items():\n",
        "    # Sélectionner les indices pour chaque label\n",
        "    label_indices = y_train[y_train['target'] == label].sample(n=count, random_state=42).index\n",
        "    indices_sample.extend(label_indices)\n",
        "\n",
        "y_train_spl = y_train.iloc[indices_sample]\n",
        "X_train_spl = X_train.iloc[indices_sample]\n",
        "\n",
        "n=250\n",
        "n_per_label =  (y_test['target'].value_counts()/len(y_test)* n).round().astype(int)\n",
        "indices_sample = []\n",
        "for label, count in n_per_label.items():\n",
        "    # Sélectionner les indices pour chaque label\n",
        "    label_indices = y_test[y_test['target'] == label].sample(n=count, random_state=42).index\n",
        "    indices_sample.extend(label_indices)\n",
        "\n",
        "y_test_spl = y_test.iloc[indices_sample]\n",
        "X_test_spl = X_test.iloc[indices_sample]\n",
        "\n",
        "print(y_train_spl.shape, X_train_spl.shape, y_test_spl.shape, X_test_spl.shape)"
      ]
    },
    {
      "cell_type": "code",
      "execution_count": 53,
      "metadata": {
        "id": "VCTHnj2OxtZd"
      },
      "outputs": [],
      "source": [
        "from datasets import Dataset\n",
        "df_train = {'text' : X_train_spl.text.tolist(), 'label': y_train_spl.target.tolist()}\n",
        "df_test = {'text' : X_test_spl.text.tolist(), 'label': y_test_spl.target.tolist()}\n",
        "\n",
        "df_train = pd.DataFrame(df_train)\n",
        "df_test = pd.DataFrame(df_test)\n",
        "\n",
        "ds_train = Dataset.from_pandas(df_train)\n",
        "ds_test = Dataset.from_pandas(df_test)\n",
        "\n",
        "import pickle\n",
        "\n",
        "with open('ds_train.pkl', 'wb') as f:\n",
        "    pickle.dump(ds_train, f)\n",
        "\n",
        "with open('ds_test.pkl', 'wb') as f:\n",
        "    pickle.dump(ds_test, f)"
      ]
    },
    {
      "cell_type": "code",
      "execution_count": 10,
      "metadata": {
        "id": "asuyEDSVGUMv"
      },
      "outputs": [],
      "source": [
        "%%capture\n",
        "from transformers import AutoTokenizer\n",
        "tokenizer = AutoTokenizer.from_pretrained(\"distilbert-base-uncased\")\n",
        "def preprocess_function(examples):\n",
        "    return tokenizer(examples[\"text\"], padding=\"max_length\", truncation=True)\n",
        "from transformers import DataCollatorWithPadding\n",
        "data_collator = DataCollatorWithPadding(tokenizer=tokenizer)"
      ]
    },
    {
      "cell_type": "code",
      "execution_count": 11,
      "metadata": {
        "id": "bHI2E3DHngZq"
      },
      "outputs": [],
      "source": [
        "%%capture\n",
        "tokenized_train = ds_train.map(preprocess_function, batched=True)\n",
        "tokenized_test = ds_test.map(preprocess_function, batched=True)"
      ]
    },
    {
      "cell_type": "code",
      "execution_count": 16,
      "metadata": {
        "colab": {
          "base_uri": "https://localhost:8080/"
        },
        "id": "-tJbB9SKpvpW",
        "outputId": "9f255bda-d21c-4587-ca41-a83deb22a639"
      },
      "outputs": [
        {
          "data": {
            "text/plain": [
              "Dataset({\n",
              "    features: ['text', 'label', 'input_ids', 'attention_mask'],\n",
              "    num_rows: 1000\n",
              "})"
            ]
          },
          "execution_count": 16,
          "metadata": {},
          "output_type": "execute_result"
        }
      ],
      "source": [
        "tokenized_train"
      ]
    },
    {
      "cell_type": "code",
      "execution_count": 19,
      "metadata": {},
      "outputs": [
        {
          "data": {
            "text/plain": [
              "512"
            ]
          },
          "execution_count": 19,
          "metadata": {},
          "output_type": "execute_result"
        }
      ],
      "source": [
        "len(tokenized_train['input_ids'][0])"
      ]
    },
    {
      "cell_type": "code",
      "execution_count": null,
      "metadata": {
        "id": "O1k4JGE8JxQh"
      },
      "outputs": [],
      "source": [
        "%%capture\n",
        "import evaluate\n",
        "accuracy = evaluate.load(\"accuracy\")\n",
        "\n",
        "import numpy as np\n",
        "def compute_metrics(eval_pred):\n",
        "    predictions, labels = eval_pred\n",
        "    predictions = np.argmax(predictions, axis=1)\n",
        "    return accuracy.compute(predictions=predictions, references=labels)\n",
        "\n",
        "# def compute_metrics(p):\n",
        "#     predictions, labels = p\n",
        "#     predictions = torch.argmax(torch.tensor(predictions), axis=1)\n",
        "#     accuracy = (predictions == labels).sum().item() / len(labels)\n",
        "#     return {\"accuracy\": accuracy}"
      ]
    },
    {
      "cell_type": "code",
      "execution_count": 23,
      "metadata": {},
      "outputs": [
        {
          "name": "stdout",
          "output_type": "stream",
          "text": [
            "True\n",
            "Wed Mar  5 23:29:34 2025       \n",
            "+-----------------------------------------------------------------------------------------+\n",
            "| NVIDIA-SMI 560.70                 Driver Version: 560.70         CUDA Version: 12.6     |\n",
            "|-----------------------------------------+------------------------+----------------------+\n",
            "| GPU  Name                  Driver-Model | Bus-Id          Disp.A | Volatile Uncorr. ECC |\n",
            "| Fan  Temp   Perf          Pwr:Usage/Cap |           Memory-Usage | GPU-Util  Compute M. |\n",
            "|                                         |                        |               MIG M. |\n",
            "|=========================================+========================+======================|\n",
            "|   0  NVIDIA GeForce GTX 1660 Ti   WDDM  |   00000000:01:00.0  On |                  N/A |\n",
            "| N/A   51C    P8             13W /   80W |     356MiB /   6144MiB |     17%      Default |\n",
            "|                                         |                        |                  N/A |\n",
            "+-----------------------------------------+------------------------+----------------------+\n",
            "                                                                                         \n",
            "+-----------------------------------------------------------------------------------------+\n",
            "| Processes:                                                                              |\n",
            "|  GPU   GI   CI        PID   Type   Process name                              GPU Memory |\n",
            "|        ID   ID                                                               Usage      |\n",
            "|=========================================================================================|\n",
            "+-----------------------------------------------------------------------------------------+\n",
            "tensor([[0.8605, 0.4210, 0.0070],\n",
            "        [0.2624, 0.0822, 0.0717],\n",
            "        [0.4091, 0.3232, 0.7092],\n",
            "        [0.9122, 0.1620, 0.2814],\n",
            "        [0.7147, 0.4427, 0.2113]])\n"
          ]
        }
      ],
      "source": [
        "#! pip3 install torch torchvision torchaudio --index-url https://download.pytorch.org/whl/cu126\n",
        "\n",
        "import torch\n",
        "print(torch.cuda.is_available())\n",
        "!nvidia-smi\n",
        "\n",
        "x = torch.rand(5, 3)\n",
        "print(x)"
      ]
    },
    {
      "cell_type": "code",
      "execution_count": 28,
      "metadata": {},
      "outputs": [],
      "source": [
        "%%capture\n",
        "! pip install peft"
      ]
    },
    {
      "cell_type": "code",
      "execution_count": 31,
      "metadata": {
        "colab": {
          "base_uri": "https://localhost:8080/"
        },
        "id": "ISFQn377lxrN",
        "outputId": "b8ddf4ac-b76e-4cd5-9495-89531298f7c4"
      },
      "outputs": [
        {
          "name": "stdout",
          "output_type": "stream",
          "text": [
            "Total number of parameters: 66 955 010\n",
            "\n",
            "distilbert\n",
            "distilbert.embeddings\n",
            "distilbert.embeddings.word_embeddings\n",
            "distilbert.embeddings.position_embeddings\n",
            "distilbert.embeddings.LayerNorm\n",
            "distilbert.embeddings.dropout\n",
            "distilbert.transformer\n",
            "distilbert.transformer.layer\n",
            "distilbert.transformer.layer.0\n",
            "distilbert.transformer.layer.0.attention\n",
            "distilbert.transformer.layer.0.attention.dropout\n",
            "distilbert.transformer.layer.0.attention.q_lin\n",
            "distilbert.transformer.layer.0.attention.k_lin\n",
            "distilbert.transformer.layer.0.attention.v_lin\n",
            "distilbert.transformer.layer.0.attention.out_lin\n",
            "distilbert.transformer.layer.0.sa_layer_norm\n",
            "distilbert.transformer.layer.0.ffn\n",
            "distilbert.transformer.layer.0.ffn.dropout\n",
            "distilbert.transformer.layer.0.ffn.lin1\n",
            "distilbert.transformer.layer.0.ffn.lin2\n",
            "distilbert.transformer.layer.0.ffn.activation\n",
            "distilbert.transformer.layer.0.output_layer_norm\n",
            "distilbert.transformer.layer.1\n",
            "distilbert.transformer.layer.1.attention\n",
            "distilbert.transformer.layer.1.attention.dropout\n",
            "distilbert.transformer.layer.1.attention.q_lin\n",
            "distilbert.transformer.layer.1.attention.k_lin\n",
            "distilbert.transformer.layer.1.attention.v_lin\n",
            "distilbert.transformer.layer.1.attention.out_lin\n",
            "distilbert.transformer.layer.1.sa_layer_norm\n",
            "distilbert.transformer.layer.1.ffn\n",
            "distilbert.transformer.layer.1.ffn.dropout\n",
            "distilbert.transformer.layer.1.ffn.lin1\n",
            "distilbert.transformer.layer.1.ffn.lin2\n",
            "distilbert.transformer.layer.1.ffn.activation\n",
            "distilbert.transformer.layer.1.output_layer_norm\n",
            "distilbert.transformer.layer.2\n",
            "distilbert.transformer.layer.2.attention\n",
            "distilbert.transformer.layer.2.attention.dropout\n",
            "distilbert.transformer.layer.2.attention.q_lin\n",
            "distilbert.transformer.layer.2.attention.k_lin\n",
            "distilbert.transformer.layer.2.attention.v_lin\n",
            "distilbert.transformer.layer.2.attention.out_lin\n",
            "distilbert.transformer.layer.2.sa_layer_norm\n",
            "distilbert.transformer.layer.2.ffn\n",
            "distilbert.transformer.layer.2.ffn.dropout\n",
            "distilbert.transformer.layer.2.ffn.lin1\n",
            "distilbert.transformer.layer.2.ffn.lin2\n",
            "distilbert.transformer.layer.2.ffn.activation\n",
            "distilbert.transformer.layer.2.output_layer_norm\n",
            "distilbert.transformer.layer.3\n",
            "distilbert.transformer.layer.3.attention\n",
            "distilbert.transformer.layer.3.attention.dropout\n",
            "distilbert.transformer.layer.3.attention.q_lin\n",
            "distilbert.transformer.layer.3.attention.k_lin\n",
            "distilbert.transformer.layer.3.attention.v_lin\n",
            "distilbert.transformer.layer.3.attention.out_lin\n",
            "distilbert.transformer.layer.3.sa_layer_norm\n",
            "distilbert.transformer.layer.3.ffn\n",
            "distilbert.transformer.layer.3.ffn.dropout\n",
            "distilbert.transformer.layer.3.ffn.lin1\n",
            "distilbert.transformer.layer.3.ffn.lin2\n",
            "distilbert.transformer.layer.3.ffn.activation\n",
            "distilbert.transformer.layer.3.output_layer_norm\n",
            "distilbert.transformer.layer.4\n",
            "distilbert.transformer.layer.4.attention\n",
            "distilbert.transformer.layer.4.attention.dropout\n",
            "distilbert.transformer.layer.4.attention.q_lin\n",
            "distilbert.transformer.layer.4.attention.k_lin\n",
            "distilbert.transformer.layer.4.attention.v_lin\n",
            "distilbert.transformer.layer.4.attention.out_lin\n",
            "distilbert.transformer.layer.4.sa_layer_norm\n",
            "distilbert.transformer.layer.4.ffn\n",
            "distilbert.transformer.layer.4.ffn.dropout\n",
            "distilbert.transformer.layer.4.ffn.lin1\n",
            "distilbert.transformer.layer.4.ffn.lin2\n",
            "distilbert.transformer.layer.4.ffn.activation\n",
            "distilbert.transformer.layer.4.output_layer_norm\n",
            "distilbert.transformer.layer.5\n",
            "distilbert.transformer.layer.5.attention\n",
            "distilbert.transformer.layer.5.attention.dropout\n",
            "distilbert.transformer.layer.5.attention.q_lin\n",
            "distilbert.transformer.layer.5.attention.k_lin\n",
            "distilbert.transformer.layer.5.attention.v_lin\n",
            "distilbert.transformer.layer.5.attention.out_lin\n",
            "distilbert.transformer.layer.5.sa_layer_norm\n",
            "distilbert.transformer.layer.5.ffn\n",
            "distilbert.transformer.layer.5.ffn.dropout\n",
            "distilbert.transformer.layer.5.ffn.lin1\n",
            "distilbert.transformer.layer.5.ffn.lin2\n",
            "distilbert.transformer.layer.5.ffn.activation\n",
            "distilbert.transformer.layer.5.output_layer_norm\n",
            "pre_classifier\n",
            "classifier\n",
            "dropout\n"
          ]
        }
      ],
      "source": [
        "id2label = {0: \"NEGATIVE\", 1: \"POSITIVE\"}\n",
        "label2id = {\"NEGATIVE\": 0, \"POSITIVE\": 1}\n",
        "\n",
        "from transformers import AutoModelForSequenceClassification, TrainingArguments, Trainer\n",
        "\n",
        "# \"distilbert-base-uncased\"  \"huawei-noah/TinyBERT_General_4L_312D\"  \"albert-base-v2\" \"facebook/bart-base\" \"t5-small\"\n",
        "model_name= \"distilbert-base-uncased\"\n",
        "\n",
        "model = AutoModelForSequenceClassification.from_pretrained(\n",
        "    model_name, num_labels=2, id2label=id2label, label2id=label2id\n",
        ")\n",
        "total_params = sum(p.numel() for p in model.parameters())\n",
        "print(\"Total number of parameters:\", f\"{total_params:,}\".replace(\",\", \" \") )\n",
        "\n",
        "for name, module in model.named_modules():\n",
        "    print(name)"
      ]
    },
    {
      "cell_type": "code",
      "execution_count": 33,
      "metadata": {},
      "outputs": [],
      "source": [
        "from peft import LoraConfig, TaskType\n",
        "\n",
        "lora_config = LoraConfig(\n",
        "    task_type=TaskType.SEQ_CLS, r=1, lora_alpha=1, lora_dropout=0.1,\n",
        "    target_modules=[\"q_lin\", \"k_lin\", \"v_lin\"]\n",
        ")\n",
        "\n",
        "from peft import get_peft_model\n",
        "model = get_peft_model(model, lora_config)"
      ]
    },
    {
      "cell_type": "code",
      "execution_count": 40,
      "metadata": {},
      "outputs": [
        {
          "name": "stdout",
          "output_type": "stream",
          "text": [
            "Trainable params: 619 778\n",
            "Total params: 67 574 788\n",
            "Trainable%: 0.917173\n"
          ]
        }
      ],
      "source": [
        "# Compter les paramètres entraînables\n",
        "trainable_params = sum(p.numel() for p in model.parameters() if p.requires_grad)\n",
        "\n",
        "# Compter tous les paramètres du modèle\n",
        "total_params = sum(p.numel() for p in model.parameters())\n",
        "\n",
        "# Calculer le pourcentage de paramètres entraînables\n",
        "trainable_percentage = (trainable_params / total_params) * 100\n",
        "\n",
        "def format_with_spaces(number):\n",
        "    return \"{:,}\".format(number).replace(\",\", \" \")\n",
        "print(f\"Trainable params: {format_with_spaces(trainable_params)}\")\n",
        "print(f\"Total params: {format_with_spaces(total_params)}\")\n",
        "print(f\"Trainable%: {trainable_percentage:.6f}\")"
      ]
    },
    {
      "cell_type": "code",
      "execution_count": 24,
      "metadata": {
        "colab": {
          "base_uri": "https://localhost:8080/",
          "height": 359
        },
        "id": "kpEBTyuNFnx5",
        "outputId": "9fd43edb-f222-4285-c319-514ba1f6fd85"
      },
      "outputs": [],
      "source": [
        "#torch.cuda.empty_cache()\n",
        "#!nvidia-smi --gpu-reset -i 0\n",
        "#!kill -9 $(pgrep -f 'python')"
      ]
    },
    {
      "cell_type": "code",
      "execution_count": 51,
      "metadata": {},
      "outputs": [],
      "source": [
        "import transformers"
      ]
    },
    {
      "cell_type": "code",
      "execution_count": 52,
      "metadata": {
        "colab": {
          "base_uri": "https://localhost:8080/",
          "height": 305
        },
        "id": "fReF2AiCmHgP",
        "outputId": "5763505c-1ace-409a-da9f-f1abc9d44309"
      },
      "outputs": [
        {
          "name": "stderr",
          "output_type": "stream",
          "text": [
            "c:\\Users\\quent\\Desktop\\Projets\\env\\py3119\\Lib\\site-packages\\transformers\\training_args.py:1594: FutureWarning: `evaluation_strategy` is deprecated and will be removed in version 4.46 of 🤗 Transformers. Use `eval_strategy` instead\n",
            "  warnings.warn(\n"
          ]
        },
        {
          "ename": "ImportError",
          "evalue": "Using the `Trainer` with `PyTorch` requires `accelerate>=0.26.0`: Please run `pip install transformers[torch]` or `pip install 'accelerate>=0.26.0'`",
          "output_type": "error",
          "traceback": [
            "\u001b[1;31m---------------------------------------------------------------------------\u001b[0m",
            "\u001b[1;31mImportError\u001b[0m                               Traceback (most recent call last)",
            "File \u001b[1;32m<timed exec>:10\u001b[0m\n",
            "File \u001b[1;32m<string>:134\u001b[0m, in \u001b[0;36m__init__\u001b[1;34m(self, output_dir, overwrite_output_dir, do_train, do_eval, do_predict, eval_strategy, prediction_loss_only, per_device_train_batch_size, per_device_eval_batch_size, per_gpu_train_batch_size, per_gpu_eval_batch_size, gradient_accumulation_steps, eval_accumulation_steps, eval_delay, torch_empty_cache_steps, learning_rate, weight_decay, adam_beta1, adam_beta2, adam_epsilon, max_grad_norm, num_train_epochs, max_steps, lr_scheduler_type, lr_scheduler_kwargs, warmup_ratio, warmup_steps, log_level, log_level_replica, log_on_each_node, logging_dir, logging_strategy, logging_first_step, logging_steps, logging_nan_inf_filter, save_strategy, save_steps, save_total_limit, save_safetensors, save_on_each_node, save_only_model, restore_callback_states_from_checkpoint, no_cuda, use_cpu, use_mps_device, seed, data_seed, jit_mode_eval, use_ipex, bf16, fp16, fp16_opt_level, half_precision_backend, bf16_full_eval, fp16_full_eval, tf32, local_rank, ddp_backend, tpu_num_cores, tpu_metrics_debug, debug, dataloader_drop_last, eval_steps, dataloader_num_workers, dataloader_prefetch_factor, past_index, run_name, disable_tqdm, remove_unused_columns, label_names, load_best_model_at_end, metric_for_best_model, greater_is_better, ignore_data_skip, fsdp, fsdp_min_num_params, fsdp_config, fsdp_transformer_layer_cls_to_wrap, accelerator_config, deepspeed, label_smoothing_factor, optim, optim_args, adafactor, group_by_length, length_column_name, report_to, ddp_find_unused_parameters, ddp_bucket_cap_mb, ddp_broadcast_buffers, dataloader_pin_memory, dataloader_persistent_workers, skip_memory_metrics, use_legacy_prediction_loop, push_to_hub, resume_from_checkpoint, hub_model_id, hub_strategy, hub_token, hub_private_repo, hub_always_push, gradient_checkpointing, gradient_checkpointing_kwargs, include_inputs_for_metrics, include_for_metrics, eval_do_concat_batches, fp16_backend, evaluation_strategy, push_to_hub_model_id, push_to_hub_organization, push_to_hub_token, mp_parameters, auto_find_batch_size, full_determinism, torchdynamo, ray_scope, ddp_timeout, torch_compile, torch_compile_backend, torch_compile_mode, dispatch_batches, split_batches, include_tokens_per_second, include_num_input_tokens_seen, neftune_noise_alpha, optim_target_modules, batch_eval_metrics, eval_on_start, use_liger_kernel, eval_use_gather_object, average_tokens_across_devices)\u001b[0m\n",
            "File \u001b[1;32mc:\\Users\\quent\\Desktop\\Projets\\env\\py3119\\Lib\\site-packages\\transformers\\training_args.py:1791\u001b[0m, in \u001b[0;36mTrainingArguments.__post_init__\u001b[1;34m(self)\u001b[0m\n\u001b[0;32m   1789\u001b[0m \u001b[38;5;66;03m# Initialize device before we proceed\u001b[39;00m\n\u001b[0;32m   1790\u001b[0m \u001b[38;5;28;01mif\u001b[39;00m \u001b[38;5;28mself\u001b[39m\u001b[38;5;241m.\u001b[39mframework \u001b[38;5;241m==\u001b[39m \u001b[38;5;124m\"\u001b[39m\u001b[38;5;124mpt\u001b[39m\u001b[38;5;124m\"\u001b[39m \u001b[38;5;129;01mand\u001b[39;00m is_torch_available():\n\u001b[1;32m-> 1791\u001b[0m     \u001b[38;5;28;43mself\u001b[39;49m\u001b[38;5;241;43m.\u001b[39;49m\u001b[43mdevice\u001b[49m\n\u001b[0;32m   1793\u001b[0m \u001b[38;5;66;03m# Disable average tokens when using single device\u001b[39;00m\n\u001b[0;32m   1794\u001b[0m \u001b[38;5;28;01mif\u001b[39;00m \u001b[38;5;28mself\u001b[39m\u001b[38;5;241m.\u001b[39maverage_tokens_across_devices:\n",
            "File \u001b[1;32mc:\\Users\\quent\\Desktop\\Projets\\env\\py3119\\Lib\\site-packages\\transformers\\training_args.py:2313\u001b[0m, in \u001b[0;36mTrainingArguments.device\u001b[1;34m(self)\u001b[0m\n\u001b[0;32m   2309\u001b[0m \u001b[38;5;250m\u001b[39m\u001b[38;5;124;03m\"\"\"\u001b[39;00m\n\u001b[0;32m   2310\u001b[0m \u001b[38;5;124;03mThe device used by this process.\u001b[39;00m\n\u001b[0;32m   2311\u001b[0m \u001b[38;5;124;03m\"\"\"\u001b[39;00m\n\u001b[0;32m   2312\u001b[0m requires_backends(\u001b[38;5;28mself\u001b[39m, [\u001b[38;5;124m\"\u001b[39m\u001b[38;5;124mtorch\u001b[39m\u001b[38;5;124m\"\u001b[39m])\n\u001b[1;32m-> 2313\u001b[0m \u001b[38;5;28;01mreturn\u001b[39;00m \u001b[38;5;28;43mself\u001b[39;49m\u001b[38;5;241;43m.\u001b[39;49m\u001b[43m_setup_devices\u001b[49m\n",
            "File \u001b[1;32mc:\\Users\\quent\\Desktop\\Projets\\env\\py3119\\Lib\\site-packages\\transformers\\utils\\generic.py:62\u001b[0m, in \u001b[0;36mcached_property.__get__\u001b[1;34m(self, obj, objtype)\u001b[0m\n\u001b[0;32m     60\u001b[0m cached \u001b[38;5;241m=\u001b[39m \u001b[38;5;28mgetattr\u001b[39m(obj, attr, \u001b[38;5;28;01mNone\u001b[39;00m)\n\u001b[0;32m     61\u001b[0m \u001b[38;5;28;01mif\u001b[39;00m cached \u001b[38;5;129;01mis\u001b[39;00m \u001b[38;5;28;01mNone\u001b[39;00m:\n\u001b[1;32m---> 62\u001b[0m     cached \u001b[38;5;241m=\u001b[39m \u001b[38;5;28;43mself\u001b[39;49m\u001b[38;5;241;43m.\u001b[39;49m\u001b[43mfget\u001b[49m\u001b[43m(\u001b[49m\u001b[43mobj\u001b[49m\u001b[43m)\u001b[49m\n\u001b[0;32m     63\u001b[0m     \u001b[38;5;28msetattr\u001b[39m(obj, attr, cached)\n\u001b[0;32m     64\u001b[0m \u001b[38;5;28;01mreturn\u001b[39;00m cached\n",
            "File \u001b[1;32mc:\\Users\\quent\\Desktop\\Projets\\env\\py3119\\Lib\\site-packages\\transformers\\training_args.py:2186\u001b[0m, in \u001b[0;36mTrainingArguments._setup_devices\u001b[1;34m(self)\u001b[0m\n\u001b[0;32m   2184\u001b[0m \u001b[38;5;28;01mif\u001b[39;00m \u001b[38;5;129;01mnot\u001b[39;00m is_sagemaker_mp_enabled():\n\u001b[0;32m   2185\u001b[0m     \u001b[38;5;28;01mif\u001b[39;00m \u001b[38;5;129;01mnot\u001b[39;00m is_accelerate_available():\n\u001b[1;32m-> 2186\u001b[0m         \u001b[38;5;28;01mraise\u001b[39;00m \u001b[38;5;167;01mImportError\u001b[39;00m(\n\u001b[0;32m   2187\u001b[0m             \u001b[38;5;124mf\u001b[39m\u001b[38;5;124m\"\u001b[39m\u001b[38;5;124mUsing the `Trainer` with `PyTorch` requires `accelerate>=\u001b[39m\u001b[38;5;132;01m{\u001b[39;00mACCELERATE_MIN_VERSION\u001b[38;5;132;01m}\u001b[39;00m\u001b[38;5;124m`: \u001b[39m\u001b[38;5;124m\"\u001b[39m\n\u001b[0;32m   2188\u001b[0m             \u001b[38;5;124mf\u001b[39m\u001b[38;5;124m\"\u001b[39m\u001b[38;5;124mPlease run `pip install transformers[torch]` or `pip install \u001b[39m\u001b[38;5;124m'\u001b[39m\u001b[38;5;124maccelerate>=\u001b[39m\u001b[38;5;132;01m{\u001b[39;00mACCELERATE_MIN_VERSION\u001b[38;5;132;01m}\u001b[39;00m\u001b[38;5;124m'\u001b[39m\u001b[38;5;124m`\u001b[39m\u001b[38;5;124m\"\u001b[39m\n\u001b[0;32m   2189\u001b[0m         )\n\u001b[0;32m   2190\u001b[0m \u001b[38;5;66;03m# We delay the init of `PartialState` to the end for clarity\u001b[39;00m\n\u001b[0;32m   2191\u001b[0m accelerator_state_kwargs \u001b[38;5;241m=\u001b[39m {\u001b[38;5;124m\"\u001b[39m\u001b[38;5;124menabled\u001b[39m\u001b[38;5;124m\"\u001b[39m: \u001b[38;5;28;01mTrue\u001b[39;00m, \u001b[38;5;124m\"\u001b[39m\u001b[38;5;124muse_configured_state\u001b[39m\u001b[38;5;124m\"\u001b[39m: \u001b[38;5;28;01mFalse\u001b[39;00m}\n",
            "\u001b[1;31mImportError\u001b[0m: Using the `Trainer` with `PyTorch` requires `accelerate>=0.26.0`: Please run `pip install transformers[torch]` or `pip install 'accelerate>=0.26.0'`"
          ]
        }
      ],
      "source": [
        "%%time\n",
        "from transformers import AdamW, get_scheduler, Adafactor # LAMB,\n",
        "from torch.optim import AdamW\n",
        "\n",
        "# Commence avec un batch size modéré (8 ou 16) et surveille la mémoire GPU avec nvidia-smi.\n",
        "# Si l'utilisation mémoire GPU est faible, augmente la taille du batch pour tirer parti du GPU, mais reste dans les limites de la mémoire.\n",
        "# Si l'entraînement devient trop lent, réduis la taille du batch et teste l'effet sur les performances.\n",
        "# Si la mémoire est saturée, utilise gradient_accumulation_steps pour simuler un plus grand batch tout en utilisant moins de mémoire.\n",
        "torch.cuda.empty_cache() # pour vider le GPU\n",
        "\n",
        "training_args = TrainingArguments(\n",
        "    output_dir=\"my_awesome_model\",\n",
        "    learning_rate=2e-5,\n",
        "    per_device_train_batch_size=32,\n",
        "    per_device_eval_batch_size=32,\n",
        "    gradient_accumulation_steps=16,\n",
        "    num_train_epochs=5,\n",
        "    weight_decay=0.01,\n",
        "    evaluation_strategy=\"epoch\",\n",
        "    save_strategy=\"epoch\",\n",
        "    load_best_model_at_end=True,\n",
        "    push_to_hub=False,\n",
        "    report_to='none',\n",
        "    fp16=True,\n",
        "    logging_dir='./logs',\n",
        "    logging_steps=1,\n",
        "    logging_first_step=True,\n",
        "    save_steps=100\n",
        ")\n",
        "\n",
        "# Créer un optimiseur AdamW personnalisé\n",
        "# optimizer = AdamW(model.parameters(), lr=training_args.learning_rate, weight_decay=training_args.weight_decay)\n",
        "# optimizer = LAMB(model.parameters(), lr=training_args.learning_rate, weight_decay=training_args.weight_decay)\n",
        "optimizer = Adafactor(model.parameters(), lr=training_args.learning_rate, relative_step=False, weight_decay=training_args.weight_decay)\n",
        "\n",
        "trainer = Trainer(\n",
        "    model=model,\n",
        "    args=training_args,\n",
        "    train_dataset=tokenized_train,\n",
        "    eval_dataset=tokenized_test,\n",
        "    tokenizer=tokenizer,\n",
        "    data_collator=data_collator,\n",
        "    compute_metrics=compute_metrics,\n",
        "    optimizers=(optimizer, None),  # Pas de scheduler personnalisé ici\n",
        ")\n",
        "\n",
        "trainer.train()"
      ]
    },
    {
      "cell_type": "code",
      "execution_count": null,
      "metadata": {
        "id": "b0jQ9OBqLQS6"
      },
      "outputs": [],
      "source": [
        "results = trainer.evaluate()\n",
        "print(results)"
      ]
    }
  ],
  "metadata": {
    "accelerator": "GPU",
    "colab": {
      "gpuType": "T4",
      "provenance": []
    },
    "kernelspec": {
      "display_name": "py3119",
      "language": "python",
      "name": "python3"
    },
    "language_info": {
      "codemirror_mode": {
        "name": "ipython",
        "version": 3
      },
      "file_extension": ".py",
      "mimetype": "text/x-python",
      "name": "python",
      "nbconvert_exporter": "python",
      "pygments_lexer": "ipython3",
      "version": "3.11.9"
    }
  },
  "nbformat": 4,
  "nbformat_minor": 0
}
